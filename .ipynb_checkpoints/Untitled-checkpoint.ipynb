{
 "cells": [
  {
   "cell_type": "code",
   "execution_count": 1,
   "metadata": {},
   "outputs": [
    {
     "name": "stdout",
     "output_type": "stream",
     "text": [
      "^C\n"
     ]
    }
   ],
   "source": [
    "!conda install networkx"
   ]
  },
  {
   "cell_type": "code",
   "execution_count": 8,
   "metadata": {},
   "outputs": [],
   "source": [
    "import pyfca\n",
    "fca = pyfca.Lattice([{1,2},{2},{1,3}])\n",
    "diagram = pyfca.LatticeDiagram(fca,4*297,4*210)\n",
    "diagram.svg().saveas('tmp.svg')\n"
   ]
  },
  {
   "cell_type": "code",
   "execution_count": 211,
   "metadata": {},
   "outputs": [],
   "source": [
    "\n",
    "class Context:\n",
    "    def __init__(self, G, M, I):\n",
    "        self.G = G\n",
    "        self.I = I\n",
    "        self.M = M\n",
    "        inner = dict()\n",
    "        for idxg in range(len(G)):\n",
    "            row = dict()\n",
    "            for idxm in range(len(M)):\n",
    "                row[M[idxm]] = I[idxg][idxm]\n",
    "            inner[G[idxg]] = row\n",
    "        self.inner = inner\n",
    "        \n",
    "    def getRowByG(self, g):\n",
    "        return self.inner[g]\n",
    "    def getColByM(self,m):\n",
    "        res = dict()\n",
    "        for (key, val) in enumerate(self.inner):\n",
    "            res[val] = self.inner[val][m]\n",
    "        return res\n",
    "\n",
    "class Node:\n",
    "    def __init__(self, G, M):\n",
    "        self.G = G\n",
    "        self.M = M\n",
    "    def __hash__(self):\n",
    "        return hash(frozenset(self.G)) + hash(frozenset(self.M))\n",
    "    def __eq__(self, other):\n",
    "        if not isinstance(other, type(self)): return NotImplemented\n",
    "        return self.G == other.G and self.M == other.M\n",
    "    def __repr__(self):\n",
    "        return\"(\" + \", \".join(self.G) + \") (\" + \", \".join(self.M) + \")\"\n",
    "\n",
    "class Lattice:\n",
    "    def __init__(self, C, E):\n",
    "        self.C = C\n",
    "        self.E = E"
   ]
  },
  {
   "cell_type": "code",
   "execution_count": 212,
   "metadata": {},
   "outputs": [
    {
     "data": {
      "text/plain": [
       "{'earth': {'red': 1, 'big': 0, 'hot': 0},\n",
       " 'mars': {'red': 1, 'big': 0, 'hot': 1},\n",
       " 'pluto': {'red': 1, 'big': 1, 'hot': 0}}"
      ]
     },
     "execution_count": 212,
     "metadata": {},
     "output_type": "execute_result"
    }
   ],
   "source": [
    "a = Context([\"earth\", \"mars\", \"pluto\"], [\"red\", \"big\", \"hot\"], [[1,0,0],[1,0,1],[1,1,0]])\n",
    "a.inner"
   ]
  },
  {
   "cell_type": "code",
   "execution_count": 248,
   "metadata": {},
   "outputs": [],
   "source": [
    "from functools import reduce\n",
    "    \n",
    "def commonAtrs(ctx, G1, M1):\n",
    "    res = set()\n",
    "    for m in M1:\n",
    "        col = ctx.getColByM(m)\n",
    "        vals = []\n",
    "        for key in col:\n",
    "            if (key in G1):\n",
    "                vals.append(col[key])\n",
    "        if (0 not in vals):\n",
    "            res.add(m)\n",
    "    return res\n",
    "def commonObjForAtt(ctx, G1, M1):\n",
    "    res = []\n",
    "    for m in M1:\n",
    "        col = ctx.getColByM(m)\n",
    "        vals = set()\n",
    "        for key in col:\n",
    "            if (key in G1 and col[key] == 1):\n",
    "                vals.add(key)\n",
    "        res.append(vals)\n",
    "    ress = set()\n",
    "    for x in res:\n",
    "        if len(ress) == 0:\n",
    "            ress = x\n",
    "        else:\n",
    "            ress.intersection(x)\n",
    "    return ress\n",
    "        \n",
    "    \n",
    "\n",
    "def nextNeighbours(ctx):\n",
    "    C = [Node(ctx.G, commonAtrs(ctx, ctx.G, ctx.M))]\n",
    "    E = set()\n",
    "    currentLevel = set({Node(ctx.G, commonAtrs(ctx, ctx.G, ctx.M))})\n",
    "    while len(currentLevel) != 0:\n",
    "        nextLevel = set()\n",
    "        for node in currentLevel:\n",
    "            lowerNeighbours = findLowerNeighbours(node, ctx)\n",
    "            print(lowerNeighbours)\n",
    "            for lowerNode in lowerNeighbours:\n",
    "                if lowerNode not in C:\n",
    "                    C.append(lowerNode)\n",
    "                    nextLevel.add(lowerNode)\n",
    "                    E.add((lowerNode.__hash__(), node.__hash__())) # add edge loweNode -> node to E\n",
    "        currentLevel = nextLevel\n",
    "    return Lattice(C, E)\n",
    "                \n",
    "            \n",
    "\n",
    "def maxGen(candidates):\n",
    "    res = set()\n",
    "    print(candidates)\n",
    "    for c in candidates:\n",
    "        general = True\n",
    "        for cc in candidates:\n",
    "            if c == cc:\n",
    "                continue\n",
    "            if len(cc.G.intersection(c.G)) == len(c.G):\n",
    "                general = False\n",
    "                break\n",
    "        if general:\n",
    "            res.add(c)\n",
    "    return res\n",
    "\n",
    "def findLowerNeighbours(node, ctx):\n",
    "    candidates = set()\n",
    "    for m in ctx.M:\n",
    "        if m in node.M:\n",
    "            continue\n",
    "        print(m)\n",
    "        x1 = node.M.copy()\n",
    "        x1.add(m)\n",
    "        print(x1)\n",
    "        y1 = commonObjForAtt(ctx, node.G, x1)\n",
    "        print(y1)\n",
    "        print(\"___________________________\")\n",
    "        if (Node(y1, x1) not in candidates):\n",
    "            candidates.add(Node(y1, x1))\n",
    "    \n",
    "    return maxGen(candidates)\n",
    "        "
   ]
  },
  {
   "cell_type": "code",
   "execution_count": 249,
   "metadata": {},
   "outputs": [],
   "source": [
    "a = Context([\"1\", \"2\", \"3\", \"4\", \"5\", \"6\", \"7\"],\n",
    "            [\"a\", \"b\", \"c\", \"d\", \"e\", \"f\", \"g\", \"h\", \"i\"],\n",
    "            [\n",
    "                [0,1,0,0,1,1,0,1,0],\n",
    "                [0,1,1,0,1,1,0,0,0],\n",
    "                [0,0,0,1,1,0,0,1,0],\n",
    "                [0,0,0,0,1,0,0,0,0],\n",
    "                [1,0,1,0,1,0,1,0,0],\n",
    "                [0,0,1,0,1,1,1,0,0],\n",
    "                [1,0,0,0,1,0,1,0,0],\n",
    "                [1,0,0,0,1,0,1,0,1],\n",
    "            ])"
   ]
  },
  {
   "cell_type": "code",
   "execution_count": 250,
   "metadata": {},
   "outputs": [
    {
     "name": "stdout",
     "output_type": "stream",
     "text": [
      "a\n",
      "{'e', 'a'}\n",
      "{'6', '2', '7', '1', '5', '3', '4'}\n",
      "___________________________\n",
      "b\n",
      "{'b', 'e'}\n",
      "{'1', '2'}\n",
      "___________________________\n",
      "c\n",
      "{'c', 'e'}\n",
      "{'6', '2', '5'}\n",
      "___________________________\n",
      "d\n",
      "{'d', 'e'}\n",
      "{'3'}\n",
      "___________________________\n",
      "f\n",
      "{'e', 'f'}\n",
      "{'6', '2', '7', '1', '5', '3', '4'}\n",
      "___________________________\n",
      "g\n",
      "{'g', 'e'}\n",
      "{'7', '6', '5'}\n",
      "___________________________\n",
      "h\n",
      "{'h', 'e'}\n",
      "{'1', '3'}\n",
      "___________________________\n",
      "i\n",
      "{'i', 'e'}\n",
      "{'6', '2', '7', '1', '5', '3', '4'}\n",
      "___________________________\n",
      "{(1, 3) (h, e), (3) (d, e), (6, 2, 5) (c, e), (1, 2) (b, e), (6, 2, 7, 1, 5, 3, 4) (e, f), (6, 2, 7, 1, 5, 3, 4) (e, a), (7, 6, 5) (g, e), (6, 2, 7, 1, 5, 3, 4) (i, e)}\n",
      "set()\n"
     ]
    },
    {
     "data": {
      "text/plain": [
       "set()"
      ]
     },
     "execution_count": 250,
     "metadata": {},
     "output_type": "execute_result"
    }
   ],
   "source": [
    "nextNeighbours(a).E\n"
   ]
  },
  {
   "cell_type": "code",
   "execution_count": 247,
   "metadata": {},
   "outputs": [
    {
     "name": "stdout",
     "output_type": "stream",
     "text": [
      "{(1, 3) (h, e), (3) (d, e), (6, 2, 5) (c, e), (1, 2) (b, e), (6, 2, 7, 1, 5, 3, 4) (e, f), (6, 2, 7, 1, 5, 3, 4) (e, a), (7, 6, 5) (g, e), (6, 2, 7, 1, 5, 3, 4) (i, e)}\n",
      "set()\n"
     ]
    },
    {
     "data": {
      "image/png": "[encoded data removed]",
      "text/plain": [
       "<Figure size 1440x1440 with 1 Axes>"
      ]
     },
     "metadata": {},
     "output_type": "display_data"
    }
   ],
   "source": [
    "import networkx as nx\n",
    "import matplotlib.pyplot as plt\n",
    "plt.figure(figsize=(20,20))\n",
    "G = nx.Graph()\n",
    "G.add_edges_from(nextNeighbours(a).E)\n",
    "plt.subplot(122)\n",
    "nx.draw(G)\n",
    "\n"
   ]
  },
  {
   "cell_type": "code",
   "execution_count": null,
   "metadata": {},
   "outputs": [],
   "source": [
    "\n",
    "\n",
    "\n",
    "\n",
    "\n",
    "\n",
    "\n",
    "\n",
    "\n",
    "\n",
    "\n",
    "\n",
    "\n",
    "\n",
    "\n",
    "\n",
    "\n",
    "\n",
    "\n",
    "\n",
    "\n",
    "\n",
    "\n",
    "\n",
    "\n",
    "\n",
    "\n",
    "\n",
    "\n",
    "\n",
    "\n",
    "\n",
    "\n",
    "\n",
    "\n",
    "\n",
    "\n",
    "\n",
    "\n",
    "\n",
    "\n",
    "\n",
    "\n",
    "\n",
    "\n",
    "\n",
    "\n",
    "\n",
    "\n",
    "\n",
    "\n",
    "\n",
    "\n",
    "\n",
    "\n",
    "\n",
    "\n",
    "\n",
    "\n",
    "\n",
    "\n",
    "\n",
    "\n",
    "\n",
    "\n"
   ]
  },
  {
   "cell_type": "code",
   "execution_count": null,
   "metadata": {},
   "outputs": [],
   "source": []
  },
  {
   "cell_type": "code",
   "execution_count": null,
   "metadata": {},
   "outputs": [],
   "source": []
  }
 ],
 "metadata": {
  "kernelspec": {
   "display_name": "Python 3",
   "language": "python",
   "name": "python3"
  },
  "language_info": {
   "codemirror_mode": {
    "name": "ipython",
    "version": 3
   },
   "file_extension": ".py",
   "mimetype": "text/x-python",
   "name": "python",
   "nbconvert_exporter": "python",
   "pygments_lexer": "ipython3",
   "version": "3.8.3"
  }
 },
 "nbformat": 4,
 "nbformat_minor": 4
}
